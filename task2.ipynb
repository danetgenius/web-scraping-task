{
 "cells": [
  {
   "cell_type": "code",
   "execution_count": 11,
   "id": "86690558-0063-47e6-97a3-204c75f77fa2",
   "metadata": {},
   "outputs": [],
   "source": [
    "# Importing required libraries\n",
    "import os\n",
    "import requests\n",
    "import re\n",
    "from bs4 import BeautifulSoup\n"
   ]
  },
  {
   "cell_type": "code",
   "execution_count": 12,
   "id": "bfded745-5f54-4630-85ed-bade6ed15cd8",
   "metadata": {},
   "outputs": [],
   "source": [
    "# Function to get the HTML source text of the Medium article\n",
    "def get_page():\n",
    "    global url\n",
    "    \n",
    "    url = input(\"Enter URL of a Medium article: \")\n",
    "\n",
    "    if not re.match(r'https?://medium.com/', url):\n",
    "        print('Please enter a valid website, or make sure it is a Medium article')\n",
    "        sys.exit(1)\n",
    "\n",
    "    res = requests.get(url)\n",
    "    res.raise_for_status()\n",
    "    soup = BeautifulSoup(res.text, 'html.parser')\n",
    "    return soup\n"
   ]
  },
  {
   "cell_type": "code",
   "execution_count": 13,
   "id": "4b90045b-f63c-4954-8faa-7685945d23a5",
   "metadata": {},
   "outputs": [],
   "source": [
    "# Function to clean HTML tags from the content\n",
    "def clean(text):\n",
    "    rep = {\"<br>\": \"\\\\n\", \"<br/>\": \"\\\\n\", \"<li>\":  \"\\\\n\"}\n",
    "    rep = dict((re.escape(k), v) for k, v in rep.items())\n",
    "    pattern = re.compile(\"|\".join(rep.keys()))\n",
    "    text = pattern.sub(lambda m: rep[re.escape(m.group(0))], text)\n",
    "    text = re.sub(r'\\<(.*?)\\>', '', text)\n",
    "    return text\n"
   ]
  },
  {
   "cell_type": "code",
   "execution_count": 14,
   "id": "6381aded-1039-44d4-b18e-0b32ea02ec77",
   "metadata": {},
   "outputs": [],
   "source": [
    "# Function to extract and collect text from the HTML content\n",
    "def collect_text(soup):\n",
    "    text = f'url: {url}\\n\\n'\n",
    "    para_text = soup.find_all('p')\n",
    "    for para in para_text:\n",
    "        text += f\"{para.text}\\n\\n\"\n",
    "    return text\n"
   ]
  },
  {
   "cell_type": "code",
   "execution_count": 15,
   "id": "7a715d99-b2d3-4188-8591-660b0cef009a",
   "metadata": {},
   "outputs": [],
   "source": [
    "# Function to save the collected text in a file\n",
    "def save_file(text):\n",
    "    if not os.path.exists('./scraped_articles'):\n",
    "        os.mkdir('./scraped_articles')\n",
    "    name = url.split(\"/\")[-1]\n",
    "    fname = f'scraped_articles/{name}.txt'\n",
    "    \n",
    "    with open(fname, 'w') as f:\n",
    "        f.write(text)\n",
    "\n",
    "    print(f'File saved in directory {fname}')\n"
   ]
  },
  {
   "cell_type": "code",
   "execution_count": 16,
   "id": "44677181-cea2-4757-bf9f-e453b572d9dd",
   "metadata": {},
   "outputs": [
    {
     "name": "stdin",
     "output_type": "stream",
     "text": [
      "Enter URL of a Medium article:  https://medium.com/@subashgandyer/papa-what-is-a-neural-network-c5e5cc427c7\n"
     ]
    },
    {
     "name": "stdout",
     "output_type": "stream",
     "text": [
      "File saved in directory scraped_articles/papa-what-is-a-neural-network-c5e5cc427c7.txt\n"
     ]
    }
   ],
   "source": [
    "# Main block to run the script\n",
    "if __name__ == '__main__':\n",
    "    text = collect_text(get_page())\n",
    "    save_file(text)\n"
   ]
  },
  {
   "cell_type": "code",
   "execution_count": null,
   "id": "f4cb8f20-5cc1-4271-9f5d-184f3bf63472",
   "metadata": {},
   "outputs": [],
   "source": []
  }
 ],
 "metadata": {
  "kernelspec": {
   "display_name": "Python 3 (ipykernel)",
   "language": "python",
   "name": "python3"
  },
  "language_info": {
   "codemirror_mode": {
    "name": "ipython",
    "version": 3
   },
   "file_extension": ".py",
   "mimetype": "text/x-python",
   "name": "python",
   "nbconvert_exporter": "python",
   "pygments_lexer": "ipython3",
   "version": "3.12.4"
  }
 },
 "nbformat": 4,
 "nbformat_minor": 5
}
